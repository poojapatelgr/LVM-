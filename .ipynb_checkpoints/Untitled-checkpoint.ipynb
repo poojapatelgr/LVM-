{
 "cells": [
  {
   "cell_type": "code",
   "execution_count": 1,
   "id": "192fd7e4",
   "metadata": {},
   "outputs": [],
   "source": [
    "import pandas as pd"
   ]
  },
  {
   "cell_type": "code",
   "execution_count": 4,
   "id": "27719564",
   "metadata": {},
   "outputs": [],
   "source": [
    "df=pd.read_csv('/home/sikshana/sw/leaves/leaveapp/text.csv')"
   ]
  },
  {
   "cell_type": "code",
   "execution_count": 5,
   "id": "2160bede",
   "metadata": {},
   "outputs": [
    {
     "data": {
      "text/html": [
       "<div>\n",
       "<style scoped>\n",
       "    .dataframe tbody tr th:only-of-type {\n",
       "        vertical-align: middle;\n",
       "    }\n",
       "\n",
       "    .dataframe tbody tr th {\n",
       "        vertical-align: top;\n",
       "    }\n",
       "\n",
       "    .dataframe thead th {\n",
       "        text-align: right;\n",
       "    }\n",
       "</style>\n",
       "<table border=\"1\" class=\"dataframe\">\n",
       "  <thead>\n",
       "    <tr style=\"text-align: right;\">\n",
       "      <th></th>\n",
       "      <th>user</th>\n",
       "      <th>employee_name</th>\n",
       "      <th>role</th>\n",
       "      <th>rollover</th>\n",
       "      <th>region</th>\n",
       "      <th>lm_start_date</th>\n",
       "      <th>approver</th>\n",
       "      <th>approver_id</th>\n",
       "      <th>Gender</th>\n",
       "    </tr>\n",
       "  </thead>\n",
       "  <tbody>\n",
       "    <tr>\n",
       "      <th>0</th>\n",
       "      <td>archanas</td>\n",
       "      <td>Acchu</td>\n",
       "      <td>1</td>\n",
       "      <td>55</td>\n",
       "      <td>South Karnataka</td>\n",
       "      <td>2021-06-01</td>\n",
       "      <td>1</td>\n",
       "      <td>pooja</td>\n",
       "      <td>Male</td>\n",
       "    </tr>\n",
       "    <tr>\n",
       "      <th>1</th>\n",
       "      <td>mahesh</td>\n",
       "      <td>Mahi</td>\n",
       "      <td>0</td>\n",
       "      <td>10</td>\n",
       "      <td>Gujarat</td>\n",
       "      <td>2021-07-01</td>\n",
       "      <td>1</td>\n",
       "      <td>archanas</td>\n",
       "      <td>Female</td>\n",
       "    </tr>\n",
       "    <tr>\n",
       "      <th>2</th>\n",
       "      <td>pooja</td>\n",
       "      <td>Poo</td>\n",
       "      <td>1</td>\n",
       "      <td>22</td>\n",
       "      <td>Maharastra</td>\n",
       "      <td>2021-08-01</td>\n",
       "      <td>1</td>\n",
       "      <td>mahesh</td>\n",
       "      <td>Male</td>\n",
       "    </tr>\n",
       "  </tbody>\n",
       "</table>\n",
       "</div>"
      ],
      "text/plain": [
       "       user employee_name  role  rollover           region lm_start_date  \\\n",
       "0  archanas         Acchu     1        55  South Karnataka    2021-06-01   \n",
       "1    mahesh          Mahi     0        10          Gujarat    2021-07-01   \n",
       "2     pooja           Poo     1        22       Maharastra    2021-08-01   \n",
       "\n",
       "   approver approver_id  Gender  \n",
       "0         1       pooja    Male  \n",
       "1         1    archanas  Female  \n",
       "2         1      mahesh    Male  "
      ]
     },
     "execution_count": 5,
     "metadata": {},
     "output_type": "execute_result"
    }
   ],
   "source": [
    "df.head()"
   ]
  },
  {
   "cell_type": "code",
   "execution_count": 7,
   "id": "0d901616",
   "metadata": {},
   "outputs": [],
   "source": [
    "dfr=pd.read_csv('/home/sikshana/sw/leaves/leaveapp/rec.csv')"
   ]
  },
  {
   "cell_type": "code",
   "execution_count": null,
   "id": "e76d8785",
   "metadata": {},
   "outputs": [],
   "source": []
  }
 ],
 "metadata": {
  "kernelspec": {
   "display_name": "Python 3 (ipykernel)",
   "language": "python",
   "name": "python3"
  },
  "language_info": {
   "codemirror_mode": {
    "name": "ipython",
    "version": 3
   },
   "file_extension": ".py",
   "mimetype": "text/x-python",
   "name": "python",
   "nbconvert_exporter": "python",
   "pygments_lexer": "ipython3",
   "version": "3.8.8"
  }
 },
 "nbformat": 4,
 "nbformat_minor": 5
}
